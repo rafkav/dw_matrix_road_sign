{
  "nbformat": 4,
  "nbformat_minor": 0,
  "metadata": {
    "colab": {
      "name": "day5.ipynb",
      "provenance": [],
      "collapsed_sections": [],
      "mount_file_id": "1ltvmlN-tIhRK2VrZKyeLzzmDTQvLw1YO",
      "authorship_tag": "ABX9TyOqkpAYw8YabEDX4yBNSL2m",
      "include_colab_link": true
    },
    "kernelspec": {
      "name": "python3",
      "display_name": "Python 3"
    },
    "accelerator": "GPU"
  },
  "cells": [
    {
      "cell_type": "markdown",
      "metadata": {
        "id": "view-in-github",
        "colab_type": "text"
      },
      "source": [
        "<a href=\"https://colab.research.google.com/github/rafkaw/dw_matrix_road_sign/blob/master/day5.ipynb\" target=\"_parent\"><img src=\"https://colab.research.google.com/assets/colab-badge.svg\" alt=\"Open In Colab\"/></a>"
      ]
    },
    {
      "cell_type": "code",
      "metadata": {
        "id": "UV98hm1wPCJL",
        "colab_type": "code",
        "colab": {
          "base_uri": "https://localhost:8080/",
          "height": 170
        },
        "outputId": "2cef1d86-bd02-4d8f-f2d0-6f8dd33ed18f"
      },
      "source": [
        "!pip install hyperopt"
      ],
      "execution_count": 1,
      "outputs": [
        {
          "output_type": "stream",
          "text": [
            "Requirement already satisfied: hyperopt in /usr/local/lib/python3.6/dist-packages (0.1.2)\n",
            "Requirement already satisfied: future in /usr/local/lib/python3.6/dist-packages (from hyperopt) (0.16.0)\n",
            "Requirement already satisfied: six in /usr/local/lib/python3.6/dist-packages (from hyperopt) (1.12.0)\n",
            "Requirement already satisfied: networkx in /usr/local/lib/python3.6/dist-packages (from hyperopt) (2.4)\n",
            "Requirement already satisfied: numpy in /usr/local/lib/python3.6/dist-packages (from hyperopt) (1.18.2)\n",
            "Requirement already satisfied: scipy in /usr/local/lib/python3.6/dist-packages (from hyperopt) (1.4.1)\n",
            "Requirement already satisfied: tqdm in /usr/local/lib/python3.6/dist-packages (from hyperopt) (4.38.0)\n",
            "Requirement already satisfied: pymongo in /usr/local/lib/python3.6/dist-packages (from hyperopt) (3.10.1)\n",
            "Requirement already satisfied: decorator>=4.3.0 in /usr/local/lib/python3.6/dist-packages (from networkx->hyperopt) (4.4.2)\n"
          ],
          "name": "stdout"
        }
      ]
    },
    {
      "cell_type": "code",
      "metadata": {
        "id": "mIhV1VHYQEG2",
        "colab_type": "code",
        "colab": {
          "base_uri": "https://localhost:8080/",
          "height": 51
        },
        "outputId": "f8a8da91-caa1-461f-f5b2-b6421e16b598"
      },
      "source": [
        "import pandas as pd\n",
        "import numpy as np\n",
        "import os\n",
        "import datetime\n",
        "\n",
        "import tensorflow as tf\n",
        "from tensorflow.keras.models import Sequential \n",
        "from tensorflow.keras.layers import Conv2D, MaxPool2D, Dense, Flatten, Dropout\n",
        "from tensorflow.keras.utils import to_categorical\n",
        "\n",
        "%load_ext tensorboard\n",
        "\n",
        "import matplotlib.pyplot as plt\n",
        "from skimage import color, exposure\n",
        "\n",
        "from sklearn.metrics import accuracy_score\n",
        "\n",
        "from hyperopt import hp, STATUS_OK, tpe, Trials, fmin"
      ],
      "execution_count": 13,
      "outputs": [
        {
          "output_type": "stream",
          "text": [
            "The tensorboard extension is already loaded. To reload it, use:\n",
            "  %reload_ext tensorboard\n"
          ],
          "name": "stdout"
        }
      ]
    },
    {
      "cell_type": "code",
      "metadata": {
        "id": "QnUVKpW6QWbm",
        "colab_type": "code",
        "colab": {
          "base_uri": "https://localhost:8080/",
          "height": 34
        },
        "outputId": "e8b6b276-2607-44a1-a5cd-88ed4473b201"
      },
      "source": [
        "cd '/content/drive/My Drive/Colab Notebooks/matrix/matrix_three/dw_matrix_road_sign'\n"
      ],
      "execution_count": 3,
      "outputs": [
        {
          "output_type": "stream",
          "text": [
            "/content/drive/My Drive/Colab Notebooks/matrix/matrix_three/dw_matrix_road_sign\n"
          ],
          "name": "stdout"
        }
      ]
    },
    {
      "cell_type": "code",
      "metadata": {
        "id": "APt2lH_mQaoE",
        "colab_type": "code",
        "colab": {}
      },
      "source": [
        "train = pd.read_pickle('data/train.p')\n",
        "test = pd.read_pickle('data/test.p')\n",
        "\n",
        "X_train, y_train = train['features'], train['labels']\n",
        "X_test, y_test = test['features'], test['labels']"
      ],
      "execution_count": 0,
      "outputs": []
    },
    {
      "cell_type": "code",
      "metadata": {
        "id": "_gWQdBaxQcu8",
        "colab_type": "code",
        "colab": {}
      },
      "source": [
        "if y_train.ndim == 1: y_train = to_categorical(y_train)\n",
        "if y_test.ndim == 1: y_test = to_categorical(y_test)\n",
        "\n",
        "input_shape = X_train.shape[1:]\n",
        "num_classes = y_train.shape[1]"
      ],
      "execution_count": 0,
      "outputs": []
    },
    {
      "cell_type": "code",
      "metadata": {
        "id": "AwGLxkCFQnMs",
        "colab_type": "code",
        "colab": {}
      },
      "source": [
        "def train_model(model, X_train, y_train, params_fit={}):\n",
        "    model.compile(loss='categorical_crossentropy', optimizer='Adam', metrics=['accuracy'])\n",
        "\n",
        "\n",
        "    logdir = os.path.join(\"logs\",datetime.datetime.now().strftime(\"%Y%m%d-%H%M%S\"))\n",
        "    tensorboard_callback = tf.keras.callbacks.TensorBoard(logdir, histogram_freq=1)\n",
        "\n",
        "    model.fit(\n",
        "        X_train, \n",
        "        y_train,\n",
        "        batch_size=params_fit.get('batch_size',128),\n",
        "        epochs=params_fit.get('epochs',5),\n",
        "        verbose=params_fit.get('verbose',1),\n",
        "        validation_data=params_fit.get('validation_data', (X_train, y_train)),\n",
        "        callbacks=[tensorboard_callback]\n",
        "        )\n",
        "    return model\n",
        "\n",
        "def predict(model_trained, X_test, y_test, scoring=accuracy_score):\n",
        "    y_test_norm = np.argmax(y_test, axis=1)\n",
        "\n",
        "    y_pred_prob = model_trained.predict(X_test)\n",
        "    y_pred = np.argmax(y_pred_prob, axis=1)\n",
        "\n",
        "    return scoring(y_test_norm, y_pred)"
      ],
      "execution_count": 0,
      "outputs": []
    },
    {
      "cell_type": "code",
      "metadata": {
        "id": "TQxnQEmPRO_F",
        "colab_type": "code",
        "colab": {}
      },
      "source": [
        "def get_cnn_v5(input_shape, num_classes):\n",
        "    return Sequential([\n",
        "      Conv2D(filters=32, kernel_size=(3, 3), activation='relu', input_shape=input_shape),  \n",
        "      Conv2D(filters=32, kernel_size=(3, 3), activation='relu',padding='same') \n",
        "      Conv2D(filters=32, kernel_size=(3, 3), activation='relu',padding='same'),\n",
        "      MaxPool2D(),\n",
        "      Dropout(0.3),\n",
        "\n",
        "      Conv2D(filters=64, kernel_size=(3, 3), activation='relu',padding='same'),  \n",
        "      Conv2D(filters=64, kernel_size=(3, 3), activation='relu',padding='same'), \n",
        "      Conv2D(filters=64, kernel_size=(3, 3), activation='relu'),                 \n",
        "      MaxPool2D(),\n",
        "      Dropout(0.3),\n",
        "\n",
        "      Conv2D(filters=128, kernel_size=(3, 3), activation='relu', padding='same'), \n",
        "      Conv2D(filters=128, kernel_size=(3, 3), activation='relu',padding='same'),  \n",
        "      Conv2D(filters=128, kernel_size=(3, 3), activation='relu'),                 \n",
        "      MaxPool2D(),\n",
        "      Dropout(0.3),\n",
        "\n",
        "\n",
        "      Flatten(),\n",
        "\n",
        "      Dense(1024, activation='relu'),\n",
        "      Dropout(0.3),\n",
        "\n",
        "      Dense(1024, activation='relu'),\n",
        "      Dropout(0.3),\n",
        "\n",
        "      Dense(num_classes, activation='softmax'),\n",
        "    ])"
      ],
      "execution_count": 0,
      "outputs": []
    },
    {
      "cell_type": "code",
      "metadata": {
        "id": "B3t3UzZURdCj",
        "colab_type": "code",
        "colab": {
          "base_uri": "https://localhost:8080/",
          "height": 221
        },
        "outputId": "6b9acdea-98a1-47b7-948d-4893b0d0d0fa"
      },
      "source": [
        "model = get_cnn_v5(input_shape, num_classes)\n",
        "model_trained = train_model(model, X_train, y_train)\n",
        "\n",
        "predict(model_trained, X_test, y_test)"
      ],
      "execution_count": 57,
      "outputs": [
        {
          "output_type": "stream",
          "text": [
            "Epoch 1/5\n",
            "  2/272 [..............................] - ETA: 5:33 - loss: 6.0455 - accuracy: 0.0273WARNING:tensorflow:Method (on_train_batch_end) is slow compared to the batch update (1.209282). Check your callbacks.\n",
            "272/272 [==============================] - 17s 64ms/step - loss: 2.2409 - accuracy: 0.3600 - val_loss: 0.5994 - val_accuracy: 0.8094\n",
            "Epoch 2/5\n",
            "272/272 [==============================] - 15s 54ms/step - loss: 0.5614 - accuracy: 0.8259 - val_loss: 0.1456 - val_accuracy: 0.9570\n",
            "Epoch 3/5\n",
            "272/272 [==============================] - 15s 54ms/step - loss: 0.2891 - accuracy: 0.9112 - val_loss: 0.0649 - val_accuracy: 0.9809\n",
            "Epoch 4/5\n",
            "272/272 [==============================] - 15s 54ms/step - loss: 0.1972 - accuracy: 0.9401 - val_loss: 0.0470 - val_accuracy: 0.9859\n",
            "Epoch 5/5\n",
            "272/272 [==============================] - 15s 54ms/step - loss: 0.1505 - accuracy: 0.9559 - val_loss: 0.0417 - val_accuracy: 0.9888\n"
          ],
          "name": "stdout"
        },
        {
          "output_type": "execute_result",
          "data": {
            "text/plain": [
              "0.9551020408163265"
            ]
          },
          "metadata": {
            "tags": []
          },
          "execution_count": 57
        }
      ]
    },
    {
      "cell_type": "code",
      "metadata": {
        "id": "JX0-Ms7OTezP",
        "colab_type": "code",
        "colab": {
          "base_uri": "https://localhost:8080/",
          "height": 51
        },
        "outputId": "50d00b3c-7958-45e1-c888-815809a029bc"
      },
      "source": [
        "model_trained.evaluate(X_test, y_test)[1]"
      ],
      "execution_count": 45,
      "outputs": [
        {
          "output_type": "stream",
          "text": [
            "138/138 [==============================] - 1s 8ms/step - loss: 0.1711 - accuracy: 0.9653\n"
          ],
          "name": "stdout"
        },
        {
          "output_type": "execute_result",
          "data": {
            "text/plain": [
              "0.9653061032295227"
            ]
          },
          "metadata": {
            "tags": []
          },
          "execution_count": 45
        }
      ]
    },
    {
      "cell_type": "code",
      "metadata": {
        "id": "Am7ucfl7VcSk",
        "colab_type": "code",
        "colab": {}
      },
      "source": [
        "def get_model(params):\n",
        "    return Sequential([\n",
        "      Conv2D(filters=32, kernel_size=(3, 3), activation='relu', input_shape=input_shape),  \n",
        "      Conv2D(filters=32, kernel_size=(3, 3), activation='relu',padding='same'),\n",
        "      Conv2D(filters=32, kernel_size=(3, 3), activation='relu',padding='same'),\n",
        "      MaxPool2D(),\n",
        "      Dropout(params['dropout_cnn_block_one']),\n",
        "\n",
        "      Conv2D(filters=64, kernel_size=(3, 3), activation='relu',padding='same'),  \n",
        "      Conv2D(filters=64, kernel_size=(3, 3), activation='relu',padding='same'),  \n",
        "      Conv2D(filters=64, kernel_size=(3, 3), activation='relu'),                 \n",
        "      MaxPool2D(),\n",
        "      Dropout(params['dropout_cnn_block_two']),\n",
        "\n",
        "      Conv2D(filters=128, kernel_size=(3, 3), activation='relu', padding='same'),\n",
        "      Conv2D(filters=128, kernel_size=(3, 3), activation='relu', padding='same'),  \n",
        "      Conv2D(filters=128, kernel_size=(3, 3), activation='relu'),                 \n",
        "      MaxPool2D(),\n",
        "      Dropout(params['dropout_cnn_block_three']),\n",
        "\n",
        "\n",
        "      Flatten(),\n",
        "\n",
        "      Dense(1024, activation='relu'),\n",
        "      Dropout(params['dropout_dense_block_one']),\n",
        "\n",
        "      Dense(1024, activation='relu'),\n",
        "      Dropout(params['dropout_dense_block_two']),\n",
        "\n",
        "      Dense(num_classes, activation='softmax'),\n",
        "    ])"
      ],
      "execution_count": 0,
      "outputs": []
    },
    {
      "cell_type": "code",
      "metadata": {
        "id": "Ux8xbG7mR16L",
        "colab_type": "code",
        "colab": {}
      },
      "source": [
        "def func_obj(params):\n",
        "    model = get_model(params)\n",
        "    model.compile(loss='categorical_crossentropy', optimizer='Adam', metrics=['accuracy'])\n",
        "\n",
        "    model.fit(\n",
        "        X_train, \n",
        "        y_train,\n",
        "        batch_size=int(params.get('batch_size',128)),\n",
        "        epochs=5,\n",
        "        verbose=0,\n",
        "    )\n",
        "    \n",
        "    score = model.evaluate(X_test, y_test, verbose=0)\n",
        "    accuracy = score[1]\n",
        "    print(params, 'accuracy{}'.format(accuracy))\n",
        "\n",
        "    return {'loss':-accuracy, 'status': STATUS_OK, 'model': model}"
      ],
      "execution_count": 0,
      "outputs": []
    },
    {
      "cell_type": "code",
      "metadata": {
        "id": "ObbvLitFT4Us",
        "colab_type": "code",
        "colab": {
          "base_uri": "https://localhost:8080/",
          "height": 1000
        },
        "outputId": "4b7a517e-fd14-4cec-af6e-39a5044f8619"
      },
      "source": [
        "space = {\n",
        "    'bath_size': hp.quniform('bath_size', 100, 200, 10),\n",
        "    'dropout_cnn_block_one': hp.uniform('dropout_cnn_block_one', 0.3, 0.5),\n",
        "    'dropout_cnn_block_two': hp.uniform('dropout_cnn_block_two', 0.3, 0.5),\n",
        "    'dropout_cnn_block_three': hp.uniform('dropout_cnn_block_three', 0.2, 0.5),\n",
        "\n",
        "    'dropout_dense_block_one': hp.uniform('dropout_dense_block_one', 0.3, 0.7),\n",
        "    'dropout_dense_block_two': hp.uniform('dropout_dense_block_two', 0.3, 0.7),\n",
        "\n",
        "}\n",
        "\n",
        "best = fmin(\n",
        "    func_obj,\n",
        "    space,\n",
        "    tpe.suggest,\n",
        "    30,\n",
        "    Trials()\n",
        ")"
      ],
      "execution_count": 60,
      "outputs": [
        {
          "output_type": "stream",
          "text": [
            "{'bath_size': 130.0, 'dropout_cnn_block_one': 0.42696768869943935, 'dropout_cnn_block_three': 0.3849951007510537, 'dropout_cnn_block_two': 0.43142192232338006, 'dropout_dense_block_one': 0.49192780862179253, 'dropout_dense_block_two': 0.6583727941615727}\n",
            "accuracy0.940816342830658\n",
            "{'bath_size': 160.0, 'dropout_cnn_block_one': 0.46067017505369234, 'dropout_cnn_block_three': 0.2064522988952247, 'dropout_cnn_block_two': 0.3016414992427962, 'dropout_dense_block_one': 0.36075586487862843, 'dropout_dense_block_two': 0.6339914092475877}\n",
            "accuracy0.9575963616371155\n",
            "{'bath_size': 130.0, 'dropout_cnn_block_one': 0.3371799766804914, 'dropout_cnn_block_three': 0.2817108046218536, 'dropout_cnn_block_two': 0.47331140911600067, 'dropout_dense_block_one': 0.3448321518237651, 'dropout_dense_block_two': 0.49327581523541986}\n",
            "accuracy0.9700680375099182\n",
            "{'bath_size': 200.0, 'dropout_cnn_block_one': 0.47811395640676146, 'dropout_cnn_block_three': 0.31506162722729464, 'dropout_cnn_block_two': 0.35104638821180256, 'dropout_dense_block_one': 0.35151730584868274, 'dropout_dense_block_two': 0.693933320734569}\n",
            "accuracy0.9353741407394409\n",
            "{'bath_size': 140.0, 'dropout_cnn_block_one': 0.3094842956299224, 'dropout_cnn_block_three': 0.46778272471049825, 'dropout_cnn_block_two': 0.40662515380091946, 'dropout_dense_block_one': 0.5644650809669478, 'dropout_dense_block_two': 0.3382135285303038}\n",
            "accuracy0.9557822942733765\n",
            "{'bath_size': 190.0, 'dropout_cnn_block_one': 0.4643587051748487, 'dropout_cnn_block_three': 0.39095082940753934, 'dropout_cnn_block_two': 0.3797478709345127, 'dropout_dense_block_one': 0.35047686713124393, 'dropout_dense_block_two': 0.42333520483788023}\n",
            "accuracy0.9689342379570007\n",
            "{'bath_size': 180.0, 'dropout_cnn_block_one': 0.30790444454836635, 'dropout_cnn_block_three': 0.3558335556763562, 'dropout_cnn_block_two': 0.3406731431571951, 'dropout_dense_block_one': 0.3855573088310235, 'dropout_dense_block_two': 0.6460404250387832}\n",
            "accuracy0.9727891087532043\n",
            "{'bath_size': 130.0, 'dropout_cnn_block_one': 0.4831962483275369, 'dropout_cnn_block_three': 0.22071764247405185, 'dropout_cnn_block_two': 0.35476218050106556, 'dropout_dense_block_one': 0.6798738187827338, 'dropout_dense_block_two': 0.3157871378929179}\n",
            "accuracy0.9489796161651611\n",
            "{'bath_size': 180.0, 'dropout_cnn_block_one': 0.3210555086814721, 'dropout_cnn_block_three': 0.3083557484225971, 'dropout_cnn_block_two': 0.3745389906009778, 'dropout_dense_block_one': 0.5733835093329314, 'dropout_dense_block_two': 0.3960499445201498}\n",
            "accuracy0.9489796161651611\n",
            "{'bath_size': 200.0, 'dropout_cnn_block_one': 0.3877765022624755, 'dropout_cnn_block_three': 0.4227862371892784, 'dropout_cnn_block_two': 0.46362137721891106, 'dropout_dense_block_one': 0.41782762041396754, 'dropout_dense_block_two': 0.4255806621930358}\n",
            "accuracy0.9315192699432373\n",
            "{'bath_size': 150.0, 'dropout_cnn_block_one': 0.4966183843845998, 'dropout_cnn_block_three': 0.45477886922572386, 'dropout_cnn_block_two': 0.4887329064465716, 'dropout_dense_block_one': 0.6561422120555159, 'dropout_dense_block_two': 0.5384761765843861}\n",
            "accuracy0.8419501185417175\n",
            "{'bath_size': 180.0, 'dropout_cnn_block_one': 0.4387849995964014, 'dropout_cnn_block_three': 0.3083592364687547, 'dropout_cnn_block_two': 0.40849895643466333, 'dropout_dense_block_one': 0.3860074164821267, 'dropout_dense_block_two': 0.6246417530057471}\n",
            "accuracy0.9646258354187012\n",
            "{'bath_size': 120.0, 'dropout_cnn_block_one': 0.36889820639618687, 'dropout_cnn_block_three': 0.3907472517500772, 'dropout_cnn_block_two': 0.3443329677924097, 'dropout_dense_block_one': 0.49105236123367757, 'dropout_dense_block_two': 0.5363742856857705}\n",
            "accuracy0.9539682269096375\n",
            "{'bath_size': 150.0, 'dropout_cnn_block_one': 0.3795886971765707, 'dropout_cnn_block_three': 0.4031231735044044, 'dropout_cnn_block_two': 0.4213020621672764, 'dropout_dense_block_one': 0.33712612670634307, 'dropout_dense_block_two': 0.4413298432255851}\n",
            "accuracy0.9442176818847656\n",
            "{'bath_size': 110.0, 'dropout_cnn_block_one': 0.4973681638849526, 'dropout_cnn_block_three': 0.20317658466397903, 'dropout_cnn_block_two': 0.3497241331882307, 'dropout_dense_block_one': 0.6621330865799118, 'dropout_dense_block_two': 0.5052478714281063}\n",
            "accuracy0.8965986371040344\n",
            "{'bath_size': 100.0, 'dropout_cnn_block_one': 0.3024840675774964, 'dropout_cnn_block_three': 0.29572025128376567, 'dropout_cnn_block_two': 0.3040279028917216, 'dropout_dense_block_one': 0.6781584657055155, 'dropout_dense_block_two': 0.4196170772588926}\n",
            "accuracy0.9553288221359253\n",
            "{'bath_size': 130.0, 'dropout_cnn_block_one': 0.46809153674598725, 'dropout_cnn_block_three': 0.24552967555685487, 'dropout_cnn_block_two': 0.3376497239792423, 'dropout_dense_block_one': 0.5977675041837417, 'dropout_dense_block_two': 0.5307822319451719}\n",
            "accuracy0.9643990993499756\n",
            "{'bath_size': 110.0, 'dropout_cnn_block_one': 0.3723188187339058, 'dropout_cnn_block_three': 0.30536818853267983, 'dropout_cnn_block_two': 0.31765190885638755, 'dropout_dense_block_one': 0.5373515712020498, 'dropout_dense_block_two': 0.6625507477829018}\n",
            "accuracy0.9684807062149048\n",
            "{'bath_size': 150.0, 'dropout_cnn_block_one': 0.32259737610179157, 'dropout_cnn_block_three': 0.45348985305107825, 'dropout_cnn_block_two': 0.4867203109645394, 'dropout_dense_block_one': 0.3301187288301426, 'dropout_dense_block_two': 0.66644340246921}\n",
            "accuracy0.9739229083061218\n",
            "{'bath_size': 190.0, 'dropout_cnn_block_one': 0.42792284484214255, 'dropout_cnn_block_three': 0.42060095862855995, 'dropout_cnn_block_two': 0.4628103587492581, 'dropout_dense_block_one': 0.3947871272227083, 'dropout_dense_block_two': 0.45889064307257454}\n",
            "accuracy0.9460317492485046\n",
            "{'bath_size': 170.0, 'dropout_cnn_block_one': 0.34918119513351464, 'dropout_cnn_block_three': 0.4970250857514039, 'dropout_cnn_block_two': 0.4998850458212415, 'dropout_dense_block_one': 0.30838093538836586, 'dropout_dense_block_two': 0.5868841482189217}\n",
            "accuracy0.9562358260154724\n",
            "{'bath_size': 160.0, 'dropout_cnn_block_one': 0.33257561616069486, 'dropout_cnn_block_three': 0.34369396332348984, 'dropout_cnn_block_two': 0.4468853173699958, 'dropout_dense_block_one': 0.4572001634022508, 'dropout_dense_block_two': 0.695284057914394}\n",
            "accuracy0.9460317492485046\n",
            "{'bath_size': 170.0, 'dropout_cnn_block_one': 0.353178684992413, 'dropout_cnn_block_three': 0.36468142415561666, 'dropout_cnn_block_two': 0.38561261380472384, 'dropout_dense_block_one': 0.3022734259523635, 'dropout_dense_block_two': 0.5821357923817606}\n",
            "accuracy0.9707483053207397\n",
            "{'bath_size': 160.0, 'dropout_cnn_block_one': 0.3001692019328276, 'dropout_cnn_block_three': 0.49524724325719144, 'dropout_cnn_block_two': 0.31841692688065365, 'dropout_dense_block_one': 0.441074553589953, 'dropout_dense_block_two': 0.5890230994415155}\n",
            "accuracy0.9725623726844788\n",
            "{'bath_size': 140.0, 'dropout_cnn_block_one': 0.40053246247134544, 'dropout_cnn_block_three': 0.45492066208700843, 'dropout_cnn_block_two': 0.3654605992838624, 'dropout_dense_block_one': 0.3074033836289665, 'dropout_dense_block_two': 0.6911808538370398}\n",
            "accuracy0.9671201705932617\n",
            "{'bath_size': 170.0, 'dropout_cnn_block_one': 0.31659961240957935, 'dropout_cnn_block_three': 0.3484776118942051, 'dropout_cnn_block_two': 0.32676633637565405, 'dropout_dense_block_one': 0.4576139344877028, 'dropout_dense_block_two': 0.6238807221456374}\n",
            "accuracy0.9589568972587585\n",
            "{'bath_size': 190.0, 'dropout_cnn_block_one': 0.35537370457130324, 'dropout_cnn_block_three': 0.4320890150641312, 'dropout_cnn_block_two': 0.39425995606151176, 'dropout_dense_block_one': 0.39141235739091923, 'dropout_dense_block_two': 0.6621812500640238}\n",
            "accuracy0.9530612230300903\n",
            "{'bath_size': 180.0, 'dropout_cnn_block_one': 0.4042449757753439, 'dropout_cnn_block_three': 0.2727846158579569, 'dropout_cnn_block_two': 0.4413391893259618, 'dropout_dense_block_one': 0.42261833692334316, 'dropout_dense_block_two': 0.5688959519090219}\n",
            "accuracy0.961904764175415\n",
            "{'bath_size': 140.0, 'dropout_cnn_block_one': 0.32116920938312243, 'dropout_cnn_block_three': 0.3653353341794774, 'dropout_cnn_block_two': 0.4230833760493165, 'dropout_dense_block_one': 0.5033375164923906, 'dropout_dense_block_two': 0.6482736021657302}\n",
            "accuracy0.8839002251625061\n",
            "{'bath_size': 160.0, 'dropout_cnn_block_one': 0.3366007986236403, 'dropout_cnn_block_three': 0.32812813904457305, 'dropout_cnn_block_two': 0.4911343449923851, 'dropout_dense_block_one': 0.3290463156539496, 'dropout_dense_block_two': 0.6123047931147634}\n",
            "accuracy0.960090696811676\n",
            "100%|██████████| 30/30 [35:20<00:00, 70.69s/it, best loss: -0.9739229083061218]\n"
          ],
          "name": "stdout"
        }
      ]
    },
    {
      "cell_type": "code",
      "metadata": {
        "id": "lFtIPTSPU8lx",
        "colab_type": "code",
        "colab": {}
      },
      "source": [
        ""
      ],
      "execution_count": 0,
      "outputs": []
    }
  ]
}